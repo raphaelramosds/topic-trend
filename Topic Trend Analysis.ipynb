{
 "cells": [
  {
   "cell_type": "markdown",
   "id": "6979e039",
   "metadata": {},
   "source": [
    "# Overview\n",
    "\n",
    "By means of Google News it was possible to fetch a unspecify amount of news related to a couple of words written by any person who happens to execute the script `main.py` "
   ]
  },
  {
   "cell_type": "code",
   "execution_count": 56,
   "id": "ad2063a6",
   "metadata": {
    "scrolled": true
   },
   "outputs": [
    {
     "data": {
      "text/html": [
       "<div>\n",
       "<style scoped>\n",
       "    .dataframe tbody tr th:only-of-type {\n",
       "        vertical-align: middle;\n",
       "    }\n",
       "\n",
       "    .dataframe tbody tr th {\n",
       "        vertical-align: top;\n",
       "    }\n",
       "\n",
       "    .dataframe thead th {\n",
       "        text-align: right;\n",
       "    }\n",
       "</style>\n",
       "<table border=\"1\" class=\"dataframe\">\n",
       "  <thead>\n",
       "    <tr style=\"text-align: right;\">\n",
       "      <th></th>\n",
       "      <th>period</th>\n",
       "      <th>title</th>\n",
       "    </tr>\n",
       "  </thead>\n",
       "  <tbody>\n",
       "    <tr>\n",
       "      <th>0</th>\n",
       "      <td>2022-03-08</td>\n",
       "      <td>Bolsonaro diz a evangélicos que dirige o país ...</td>\n",
       "    </tr>\n",
       "    <tr>\n",
       "      <th>1</th>\n",
       "      <td>2022-03-23</td>\n",
       "      <td>Comentário do Dia: Pequenas (e algumas nem tão...</td>\n",
       "    </tr>\n",
       "    <tr>\n",
       "      <th>2</th>\n",
       "      <td>2022-02-23</td>\n",
       "      <td>Bolsonaro critica PT por invasão de igreja e c...</td>\n",
       "    </tr>\n",
       "    <tr>\n",
       "      <th>3</th>\n",
       "      <td>2022-02-25</td>\n",
       "      <td>Governo Bolsonaro assedia pastores para evitar...</td>\n",
       "    </tr>\n",
       "    <tr>\n",
       "      <th>4</th>\n",
       "      <td>2022-03-04</td>\n",
       "      <td>O que explica o ainda forte apoio dos evangéli...</td>\n",
       "    </tr>\n",
       "    <tr>\n",
       "      <th>...</th>\n",
       "      <td>...</td>\n",
       "      <td>...</td>\n",
       "    </tr>\n",
       "    <tr>\n",
       "      <th>64</th>\n",
       "      <td>2021-06-05</td>\n",
       "      <td>Guerra política na igreja da paz: a perseguiçã...</td>\n",
       "    </tr>\n",
       "    <tr>\n",
       "      <th>65</th>\n",
       "      <td>2021-06-02</td>\n",
       "      <td>Bolsonaro fala em acabar com taxa para igrejas...</td>\n",
       "    </tr>\n",
       "    <tr>\n",
       "      <th>66</th>\n",
       "      <td>2022-01-04</td>\n",
       "      <td>\"É difícil dizer que Bolsonaro é um bom católi...</td>\n",
       "    </tr>\n",
       "    <tr>\n",
       "      <th>67</th>\n",
       "      <td>2021-07-03</td>\n",
       "      <td>\"Há um conjunto de cristãos que não apoia inic...</td>\n",
       "    </tr>\n",
       "    <tr>\n",
       "      <th>68</th>\n",
       "      <td>2021-11-15</td>\n",
       "      <td>Na TV, Bolsonaro diz que ‘não mandou ninguém f...</td>\n",
       "    </tr>\n",
       "  </tbody>\n",
       "</table>\n",
       "<p>69 rows × 2 columns</p>\n",
       "</div>"
      ],
      "text/plain": [
       "        period                                              title\n",
       "0   2022-03-08  Bolsonaro diz a evangélicos que dirige o país ...\n",
       "1   2022-03-23  Comentário do Dia: Pequenas (e algumas nem tão...\n",
       "2   2022-02-23  Bolsonaro critica PT por invasão de igreja e c...\n",
       "3   2022-02-25  Governo Bolsonaro assedia pastores para evitar...\n",
       "4   2022-03-04  O que explica o ainda forte apoio dos evangéli...\n",
       "..         ...                                                ...\n",
       "64  2021-06-05  Guerra política na igreja da paz: a perseguiçã...\n",
       "65  2021-06-02  Bolsonaro fala em acabar com taxa para igrejas...\n",
       "66  2022-01-04  \"É difícil dizer que Bolsonaro é um bom católi...\n",
       "67  2021-07-03  \"Há um conjunto de cristãos que não apoia inic...\n",
       "68  2021-11-15  Na TV, Bolsonaro diz que ‘não mandou ninguém f...\n",
       "\n",
       "[69 rows x 2 columns]"
      ]
     },
     "metadata": {},
     "output_type": "display_data"
    }
   ],
   "source": [
    "import pandas as pd\n",
    "import plotly.express as px\n",
    "import matplotlib.pyplot as plt\n",
    "import numpy as np\n",
    "\n",
    "df = pd.read_csv(\"./assets/news.csv\")\n",
    "\n",
    "display(df)"
   ]
  },
  {
   "cell_type": "code",
   "execution_count": 57,
   "id": "e51f3c30",
   "metadata": {
    "scrolled": false
   },
   "outputs": [
    {
     "name": "stdout",
     "output_type": "stream",
     "text": [
      "<class 'pandas.core.frame.DataFrame'>\n",
      "RangeIndex: 69 entries, 0 to 68\n",
      "Data columns (total 2 columns):\n",
      " #   Column  Non-Null Count  Dtype \n",
      "---  ------  --------------  ----- \n",
      " 0   period  69 non-null     object\n",
      " 1   title   69 non-null     object\n",
      "dtypes: object(2)\n",
      "memory usage: 1.2+ KB\n"
     ]
    }
   ],
   "source": [
    "df.info()"
   ]
  },
  {
   "cell_type": "markdown",
   "id": "e8eb7e62",
   "metadata": {},
   "source": [
    "## Data handling\n",
    "\n",
    "How one can see, periods are represented by `object` type. However, we wish they turn into `date` type. In order to accomplish this, we can use a Pandas' method which does such conversion. "
   ]
  },
  {
   "cell_type": "code",
   "execution_count": 58,
   "id": "05ff1f73",
   "metadata": {
    "scrolled": true
   },
   "outputs": [],
   "source": [
    "df[\"period\"] = pd.to_datetime(df[\"period\"])"
   ]
  },
  {
   "cell_type": "markdown",
   "id": "69e7edd2",
   "metadata": {},
   "source": [
    "It's also intersting to have extra columns such as month and year assigned to each period. Thus, we make use of DataFrame attributes to fetch these two values."
   ]
  },
  {
   "cell_type": "code",
   "execution_count": 59,
   "id": "45463015",
   "metadata": {},
   "outputs": [
    {
     "data": {
      "text/html": [
       "<div>\n",
       "<style scoped>\n",
       "    .dataframe tbody tr th:only-of-type {\n",
       "        vertical-align: middle;\n",
       "    }\n",
       "\n",
       "    .dataframe tbody tr th {\n",
       "        vertical-align: top;\n",
       "    }\n",
       "\n",
       "    .dataframe thead th {\n",
       "        text-align: right;\n",
       "    }\n",
       "</style>\n",
       "<table border=\"1\" class=\"dataframe\">\n",
       "  <thead>\n",
       "    <tr style=\"text-align: right;\">\n",
       "      <th></th>\n",
       "      <th>period</th>\n",
       "      <th>title</th>\n",
       "      <th>month</th>\n",
       "      <th>year</th>\n",
       "    </tr>\n",
       "  </thead>\n",
       "  <tbody>\n",
       "    <tr>\n",
       "      <th>0</th>\n",
       "      <td>2022-03-08</td>\n",
       "      <td>Bolsonaro diz a evangélicos que dirige o país ...</td>\n",
       "      <td>March</td>\n",
       "      <td>2022</td>\n",
       "    </tr>\n",
       "    <tr>\n",
       "      <th>1</th>\n",
       "      <td>2022-03-23</td>\n",
       "      <td>Comentário do Dia: Pequenas (e algumas nem tão...</td>\n",
       "      <td>March</td>\n",
       "      <td>2022</td>\n",
       "    </tr>\n",
       "    <tr>\n",
       "      <th>2</th>\n",
       "      <td>2022-02-23</td>\n",
       "      <td>Bolsonaro critica PT por invasão de igreja e c...</td>\n",
       "      <td>February</td>\n",
       "      <td>2022</td>\n",
       "    </tr>\n",
       "    <tr>\n",
       "      <th>3</th>\n",
       "      <td>2022-02-25</td>\n",
       "      <td>Governo Bolsonaro assedia pastores para evitar...</td>\n",
       "      <td>February</td>\n",
       "      <td>2022</td>\n",
       "    </tr>\n",
       "    <tr>\n",
       "      <th>4</th>\n",
       "      <td>2022-03-04</td>\n",
       "      <td>O que explica o ainda forte apoio dos evangéli...</td>\n",
       "      <td>March</td>\n",
       "      <td>2022</td>\n",
       "    </tr>\n",
       "    <tr>\n",
       "      <th>...</th>\n",
       "      <td>...</td>\n",
       "      <td>...</td>\n",
       "      <td>...</td>\n",
       "      <td>...</td>\n",
       "    </tr>\n",
       "    <tr>\n",
       "      <th>64</th>\n",
       "      <td>2021-06-05</td>\n",
       "      <td>Guerra política na igreja da paz: a perseguiçã...</td>\n",
       "      <td>June</td>\n",
       "      <td>2021</td>\n",
       "    </tr>\n",
       "    <tr>\n",
       "      <th>65</th>\n",
       "      <td>2021-06-02</td>\n",
       "      <td>Bolsonaro fala em acabar com taxa para igrejas...</td>\n",
       "      <td>June</td>\n",
       "      <td>2021</td>\n",
       "    </tr>\n",
       "    <tr>\n",
       "      <th>66</th>\n",
       "      <td>2022-01-04</td>\n",
       "      <td>\"É difícil dizer que Bolsonaro é um bom católi...</td>\n",
       "      <td>January</td>\n",
       "      <td>2022</td>\n",
       "    </tr>\n",
       "    <tr>\n",
       "      <th>67</th>\n",
       "      <td>2021-07-03</td>\n",
       "      <td>\"Há um conjunto de cristãos que não apoia inic...</td>\n",
       "      <td>July</td>\n",
       "      <td>2021</td>\n",
       "    </tr>\n",
       "    <tr>\n",
       "      <th>68</th>\n",
       "      <td>2021-11-15</td>\n",
       "      <td>Na TV, Bolsonaro diz que ‘não mandou ninguém f...</td>\n",
       "      <td>November</td>\n",
       "      <td>2021</td>\n",
       "    </tr>\n",
       "  </tbody>\n",
       "</table>\n",
       "<p>69 rows × 4 columns</p>\n",
       "</div>"
      ],
      "text/plain": [
       "       period                                              title     month  \\\n",
       "0  2022-03-08  Bolsonaro diz a evangélicos que dirige o país ...     March   \n",
       "1  2022-03-23  Comentário do Dia: Pequenas (e algumas nem tão...     March   \n",
       "2  2022-02-23  Bolsonaro critica PT por invasão de igreja e c...  February   \n",
       "3  2022-02-25  Governo Bolsonaro assedia pastores para evitar...  February   \n",
       "4  2022-03-04  O que explica o ainda forte apoio dos evangéli...     March   \n",
       "..        ...                                                ...       ...   \n",
       "64 2021-06-05  Guerra política na igreja da paz: a perseguiçã...      June   \n",
       "65 2021-06-02  Bolsonaro fala em acabar com taxa para igrejas...      June   \n",
       "66 2022-01-04  \"É difícil dizer que Bolsonaro é um bom católi...   January   \n",
       "67 2021-07-03  \"Há um conjunto de cristãos que não apoia inic...      July   \n",
       "68 2021-11-15  Na TV, Bolsonaro diz que ‘não mandou ninguém f...  November   \n",
       "\n",
       "    year  \n",
       "0   2022  \n",
       "1   2022  \n",
       "2   2022  \n",
       "3   2022  \n",
       "4   2022  \n",
       "..   ...  \n",
       "64  2021  \n",
       "65  2021  \n",
       "66  2022  \n",
       "67  2021  \n",
       "68  2021  \n",
       "\n",
       "[69 rows x 4 columns]"
      ]
     },
     "execution_count": 59,
     "metadata": {},
     "output_type": "execute_result"
    }
   ],
   "source": [
    "# Mapping\n",
    "months_mapping = {\n",
    "    1: \"January\",\n",
    "    2: \"February\",\n",
    "    3: \"March\",\n",
    "    4: \"April\",\n",
    "    5: \"May\",\n",
    "    6: \"June\",\n",
    "    7: \"July\",\n",
    "    8: \"August\",\n",
    "    9: \"September\",\n",
    "    10: \"October\",\n",
    "    11: \"November\",\n",
    "    12: \"December\"\n",
    "}\n",
    "\n",
    "df[\"month\"] = df[\"period\"].dt.month.map(months_mapping)\n",
    "df[\"year\"] = df[\"period\"].dt.year\n",
    "\n",
    "df"
   ]
  },
  {
   "cell_type": "markdown",
   "id": "c2f12155",
   "metadata": {},
   "source": [
    "## Insights"
   ]
  },
  {
   "cell_type": "markdown",
   "id": "47d06356",
   "metadata": {},
   "source": [
    "Below, one might see how many news were published on each month of the currently year"
   ]
  },
  {
   "cell_type": "code",
   "execution_count": 60,
   "id": "b2056979",
   "metadata": {},
   "outputs": [
    {
     "data": {
      "text/plain": [
       "February    13\n",
       "January      6\n",
       "March        5\n",
       "Name: month, dtype: int64"
      ]
     },
     "execution_count": 60,
     "metadata": {},
     "output_type": "execute_result"
    }
   ],
   "source": [
    "currently_year = 2022\n",
    "\n",
    "df[df.year == 2022][\"month\"].value_counts()"
   ]
  },
  {
   "cell_type": "markdown",
   "id": "84af9c09",
   "metadata": {},
   "source": [
    "In adiction to that, a chart with how many ones were published by year"
   ]
  },
  {
   "cell_type": "code",
   "execution_count": 63,
   "id": "572f0f60",
   "metadata": {},
   "outputs": [
    {
     "data": {
      "text/html": [
       "<div>\n",
       "<style scoped>\n",
       "    .dataframe tbody tr th:only-of-type {\n",
       "        vertical-align: middle;\n",
       "    }\n",
       "\n",
       "    .dataframe tbody tr th {\n",
       "        vertical-align: top;\n",
       "    }\n",
       "\n",
       "    .dataframe thead th {\n",
       "        text-align: right;\n",
       "    }\n",
       "</style>\n",
       "<table border=\"1\" class=\"dataframe\">\n",
       "  <thead>\n",
       "    <tr style=\"text-align: right;\">\n",
       "      <th></th>\n",
       "      <th>year</th>\n",
       "      <th>amount</th>\n",
       "    </tr>\n",
       "  </thead>\n",
       "  <tbody>\n",
       "    <tr>\n",
       "      <th>0</th>\n",
       "      <td>2021</td>\n",
       "      <td>45</td>\n",
       "    </tr>\n",
       "    <tr>\n",
       "      <th>1</th>\n",
       "      <td>2022</td>\n",
       "      <td>24</td>\n",
       "    </tr>\n",
       "  </tbody>\n",
       "</table>\n",
       "</div>"
      ],
      "text/plain": [
       "   year  amount\n",
       "0  2021      45\n",
       "1  2022      24"
      ]
     },
     "execution_count": 63,
     "metadata": {},
     "output_type": "execute_result"
    }
   ],
   "source": [
    "# axis-x year\n",
    "# axis-y amount\n",
    "\n",
    "counts = df[\"year\"].value_counts()\n",
    "\n",
    "df_news_by_year = pd.DataFrame(counts)\n",
    "df_news_by_year = df_news_by_year.reset_index()\n",
    "df_news_by_year.columns = [\"year\", \"amount\"]\n",
    "df_news_by_year\n",
    "\n",
    "plt.bar(df_news_by_year[\"year\"], df_news_by_year[\"amount\"])\n",
    "\n",
    "plt.xticks(np.arange(1,5,1))\n",
    "plt.yticks(np.arange(1,20, 5))\n",
    "\n",
    "plt.ylabel(\"Published news\")\n",
    "plt.xlabel(\"Year\")\n",
    "\n",
    "plt.show()"
   ]
  }
 ],
 "metadata": {
  "kernelspec": {
   "display_name": "Python 3 (ipykernel)",
   "language": "python",
   "name": "python3"
  },
  "language_info": {
   "codemirror_mode": {
    "name": "ipython",
    "version": 3
   },
   "file_extension": ".py",
   "mimetype": "text/x-python",
   "name": "python",
   "nbconvert_exporter": "python",
   "pygments_lexer": "ipython3",
   "version": "3.10.2"
  }
 },
 "nbformat": 4,
 "nbformat_minor": 5
}

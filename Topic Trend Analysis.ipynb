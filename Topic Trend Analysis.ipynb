{
 "cells": [
  {
   "cell_type": "markdown",
   "id": "f9c18be7",
   "metadata": {},
   "source": [
    "# Overview\n",
    "\n",
    "By means of Google News it was posible to fetch a unspecify amount of news related to a couple of words written by any person who happens to execute the script `main.py`. "
   ]
  },
  {
   "cell_type": "code",
   "execution_count": 1,
   "id": "c4d9dd92",
   "metadata": {},
   "outputs": [
    {
     "data": {
      "text/html": [
       "<div>\n",
       "<style scoped>\n",
       "    .dataframe tbody tr th:only-of-type {\n",
       "        vertical-align: middle;\n",
       "    }\n",
       "\n",
       "    .dataframe tbody tr th {\n",
       "        vertical-align: top;\n",
       "    }\n",
       "\n",
       "    .dataframe thead th {\n",
       "        text-align: right;\n",
       "    }\n",
       "</style>\n",
       "<table border=\"1\" class=\"dataframe\">\n",
       "  <thead>\n",
       "    <tr style=\"text-align: right;\">\n",
       "      <th></th>\n",
       "      <th>period</th>\n",
       "      <th>title</th>\n",
       "    </tr>\n",
       "  </thead>\n",
       "  <tbody>\n",
       "    <tr>\n",
       "      <th>0</th>\n",
       "      <td>2022-03-08</td>\n",
       "      <td>Bolsonaro diz a evangélicos que dirige o país ...</td>\n",
       "    </tr>\n",
       "    <tr>\n",
       "      <th>1</th>\n",
       "      <td>2022-03-23</td>\n",
       "      <td>Comentário do Dia: Pequenas (e algumas nem tão...</td>\n",
       "    </tr>\n",
       "    <tr>\n",
       "      <th>2</th>\n",
       "      <td>2022-02-23</td>\n",
       "      <td>Bolsonaro critica PT por invasão de igreja e c...</td>\n",
       "    </tr>\n",
       "    <tr>\n",
       "      <th>3</th>\n",
       "      <td>2022-02-25</td>\n",
       "      <td>Governo Bolsonaro assedia pastores para evitar...</td>\n",
       "    </tr>\n",
       "    <tr>\n",
       "      <th>4</th>\n",
       "      <td>2022-03-04</td>\n",
       "      <td>O que explica o ainda forte apoio dos evangéli...</td>\n",
       "    </tr>\n",
       "    <tr>\n",
       "      <th>...</th>\n",
       "      <td>...</td>\n",
       "      <td>...</td>\n",
       "    </tr>\n",
       "    <tr>\n",
       "      <th>64</th>\n",
       "      <td>2021-06-05</td>\n",
       "      <td>Guerra política na igreja da paz: a perseguiçã...</td>\n",
       "    </tr>\n",
       "    <tr>\n",
       "      <th>65</th>\n",
       "      <td>2021-06-02</td>\n",
       "      <td>Bolsonaro fala em acabar com taxa para igrejas...</td>\n",
       "    </tr>\n",
       "    <tr>\n",
       "      <th>66</th>\n",
       "      <td>2022-01-04</td>\n",
       "      <td>\"É difícil dizer que Bolsonaro é um bom católi...</td>\n",
       "    </tr>\n",
       "    <tr>\n",
       "      <th>67</th>\n",
       "      <td>2021-07-03</td>\n",
       "      <td>\"Há um conjunto de cristãos que não apoia inic...</td>\n",
       "    </tr>\n",
       "    <tr>\n",
       "      <th>68</th>\n",
       "      <td>2021-11-15</td>\n",
       "      <td>Na TV, Bolsonaro diz que ‘não mandou ninguém f...</td>\n",
       "    </tr>\n",
       "  </tbody>\n",
       "</table>\n",
       "<p>69 rows × 2 columns</p>\n",
       "</div>"
      ],
      "text/plain": [
       "        period                                              title\n",
       "0   2022-03-08  Bolsonaro diz a evangélicos que dirige o país ...\n",
       "1   2022-03-23  Comentário do Dia: Pequenas (e algumas nem tão...\n",
       "2   2022-02-23  Bolsonaro critica PT por invasão de igreja e c...\n",
       "3   2022-02-25  Governo Bolsonaro assedia pastores para evitar...\n",
       "4   2022-03-04  O que explica o ainda forte apoio dos evangéli...\n",
       "..         ...                                                ...\n",
       "64  2021-06-05  Guerra política na igreja da paz: a perseguiçã...\n",
       "65  2021-06-02  Bolsonaro fala em acabar com taxa para igrejas...\n",
       "66  2022-01-04  \"É difícil dizer que Bolsonaro é um bom católi...\n",
       "67  2021-07-03  \"Há um conjunto de cristãos que não apoia inic...\n",
       "68  2021-11-15  Na TV, Bolsonaro diz que ‘não mandou ninguém f...\n",
       "\n",
       "[69 rows x 2 columns]"
      ]
     },
     "metadata": {},
     "output_type": "display_data"
    }
   ],
   "source": [
    "import pandas as pd\n",
    "import plotly.express as px\n",
    "import matplotlib.pyplot as plt\n",
    "import numpy as np\n",
    "\n",
    "df = pd.read_csv(\"./assets/news.csv\")\n",
    "\n",
    "display(df)"
   ]
  },
  {
   "cell_type": "code",
   "execution_count": null,
   "id": "26fc4ba3",
   "metadata": {},
   "outputs": [],
   "source": []
  }
 ],
 "metadata": {
  "kernelspec": {
   "display_name": "Python 3 (ipykernel)",
   "language": "python",
   "name": "python3"
  },
  "language_info": {
   "codemirror_mode": {
    "name": "ipython",
    "version": 3
   },
   "file_extension": ".py",
   "mimetype": "text/x-python",
   "name": "python",
   "nbconvert_exporter": "python",
   "pygments_lexer": "ipython3",
   "version": "3.10.2"
  }
 },
 "nbformat": 4,
 "nbformat_minor": 5
}
